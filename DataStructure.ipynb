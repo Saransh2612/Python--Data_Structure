{
  "nbformat": 4,
  "nbformat_minor": 0,
  "metadata": {
    "colab": {
      "provenance": []
    },
    "kernelspec": {
      "name": "python3",
      "display_name": "Python 3"
    },
    "language_info": {
      "name": "python"
    }
  },
  "cells": [
    {
      "cell_type": "markdown",
      "source": [
        "1. What are data structures, and why are they important?\n",
        "    --In Python, data structures are built-in or user-defined ways of organizing and storing data so it can be used efficiently. Python provides several powerful and flexible data structures that are fundamental to writing efficient code and solving problems effectively."
      ],
      "metadata": {
        "id": "nlkV05yUIDFe"
      }
    },
    {
      "cell_type": "markdown",
      "source": [
        "2.  Explain the difference between mutable and immutable data types with examples\n",
        "  --Mutable objects can be changed after they are created. Eg. List, Dictionary, Set whereas Immutable objects cannot be changed after they are created. Eg.Strings, Tuples\n",
        "\n",
        "  "
      ],
      "metadata": {
        "id": "JhYvZkofIsiA"
      }
    },
    {
      "cell_type": "markdown",
      "source": [
        "3. What are the main differences between lists and tuples in Python?\n",
        "   -- List are mutable an Tuples are immutable"
      ],
      "metadata": {
        "id": "QdWjCt-hJXwi"
      }
    },
    {
      "cell_type": "markdown",
      "source": [
        "4. Describe how dictionaries store data.\n",
        "   -- In Python, dictionaries store data as key-value pairs using a highly efficient structure called a hash table."
      ],
      "metadata": {
        "id": "SOTcaerMJwFZ"
      }
    },
    {
      "cell_type": "markdown",
      "source": [
        "5. Why might you use a set instead of a list in Python?\n",
        "   --You might use a set instead of a list in Python when you need to store a collection of unique items and want fast membership testing."
      ],
      "metadata": {
        "id": "ysF6gSoBJ9iP"
      }
    },
    {
      "cell_type": "markdown",
      "source": [
        "6. What is a string in Python, and how is it different from a list?\n",
        "  -- In Python, a string is a sequence of characters, while a list is a more general sequence that can contain any type of objects (not just characters)."
      ],
      "metadata": {
        "id": "QbuYCUH_KTXg"
      }
    },
    {
      "cell_type": "markdown",
      "source": [
        "7. How do tuples ensure data integrity in Python\n",
        "  -- Tuples ensure data integrity in Python primarily through their immutability — once a tuple is created, its contents cannot be changed, added to, or removed."
      ],
      "metadata": {
        "id": "BA4je2e_KhL8"
      }
    },
    {
      "cell_type": "markdown",
      "source": [
        "8. What is a hash table, and how does it relate to dictionaries in Python\n",
        "  -- In Python, the dictionary (dict) is implemented using a hash table — it's the engine that powers how dictionaries work behind the scenes."
      ],
      "metadata": {
        "id": "yU8Kgm_KKzWz"
      }
    },
    {
      "cell_type": "markdown",
      "source": [
        "9. Can lists contain different data types in Python\n",
        "  -- Yes, lists in Python can contain different data types."
      ],
      "metadata": {
        "id": "m25Zc4L6LJVS"
      }
    },
    {
      "cell_type": "markdown",
      "source": [
        "10. Explain why strings are immutable in Python?\n",
        "   -- In Python, strings are immutable, meaning that once a string object is created, its content cannot be changed."
      ],
      "metadata": {
        "id": "zwi393g4LJap"
      }
    },
    {
      "cell_type": "markdown",
      "source": [
        "11. What advantages do dictionaries offer over lists for certain tasks\n",
        "   -- Dictionaries in Python offer several advantages over lists for certain tasks, particularly when it comes to efficient lookups, managing data by keys, and working with key-value pairs."
      ],
      "metadata": {
        "id": "A6GlyeSILJo2"
      }
    },
    {
      "cell_type": "markdown",
      "source": [
        "12. Describe a scenario where using a tuple would be preferable over a list.\n",
        "   -- Using a tuple can be preferable over a list in scenarios where data immutability is important or when you need to ensure that the collection of items remains constant. Here’s an example scenario to illustrate when a tuple would be the better choice:\n",
        "   # Using a tuple to represent a coordinate\n",
        "coordinates = (40.7128, -74.0060)  # Latitude and Longitude for New York City\n",
        "\n",
        "# Accessing values\n",
        "latitude = coordinates[0]\n",
        "longitude = coordinates[1]\n",
        "\n",
        "print(f\"Latitude: {latitude}, Longitude: {longitude}\")"
      ],
      "metadata": {
        "id": "IjA41aX3LJqY"
      }
    },
    {
      "cell_type": "markdown",
      "source": [
        "13.  How do sets handle duplicate values in Python?\n",
        "  -- In Python, sets automatically handle duplicate values by removing them. A set is a collection of unique elements.Eg\n",
        "       # Creating a set with duplicate values\n",
        "my_set = {1, 2, 3, 4, 4, 5, 5, 5}\n",
        "\n",
        "# Output the set\n",
        "print(my_set)  # Output: {1, 2, 3, 4, 5}"
      ],
      "metadata": {
        "id": "S1peEYWJLJuJ"
      }
    },
    {
      "cell_type": "markdown",
      "source": [
        "14.  How does the “in” keyword work differently for lists and dictionaries?\n",
        "   -- List Eg.\n",
        "       my_list = [1, 2, 3, 4, 5]\n",
        "\n",
        "     # Check if the value 3 is in the list\n",
        "     print(3 in my_list)  # Output: True\n",
        "      Dictionary Eg.\n",
        "      my_dict = {\"a\": 1, \"b\": 2, \"c\": 3}\n",
        "\n",
        "  # Check if the key 'a' is in the dictionary\n",
        "  print(\"a\" in my_dict)  # Output: True"
      ],
      "metadata": {
        "id": "sAWWdosDLKCk"
      }
    },
    {
      "cell_type": "markdown",
      "source": [
        "15. Can you modify the elements of a tuple? Explain why or why not\n",
        "   -- No, you cannot modify the elements of a tuple in Python. Tuples are immutable, meaning that once a tuple is created, its content cannot be changed. This includes adding, removing, or altering elements within the tuple."
      ],
      "metadata": {
        "id": "fhuGy2OILKFf"
      }
    },
    {
      "cell_type": "markdown",
      "source": [
        "16. What is a nested dictionary, and give an example of its use case?\n",
        "   -- A nested dictionary in Python is a dictionary where one or more of the values are themselves dictionaries. Eg.\n",
        "   # Nested dictionary representing user profiles\n",
        "user_profiles = {\n",
        "    \"user1\": {\n",
        "        \"name\": \"Alice\",\n",
        "        \"age\": 25,\n",
        "        \"address\": {\n",
        "            \"street\": \"123 Main St\",\n",
        "            \"city\": \"New York\",\n",
        "            \"zip\": \"10001\"\n",
        "        }\n",
        "    },\n",
        "    \"user2\": {\n",
        "        \"name\": \"Bob\",\n",
        "        \"age\": 30,\n",
        "        \"address\": {\n",
        "            \"street\": \"456 Oak Rd\",\n",
        "            \"city\": \"Los Angeles\",\n",
        "            \"zip\": \"90001\"\n",
        "        }\n",
        "    }\n",
        "}\n",
        "\n",
        "# Accessing values in the nested dictionary\n",
        "print(user_profiles[\"user1\"][\"name\"])  # Output: Alice\n",
        "print(user_profiles[\"user1\"][\"address\"][\"city\"])  # Output: New York\n",
        "\n",
        "# Modifying a nested dictionary value\n",
        "user_profiles[\"user2\"][\"age\"] = 31\n",
        "print(user_profiles[\"user2\"][\"age\"])  # Output: 31\n",
        "\n",
        "# Adding a new key-value pair to a nested dictionary\n",
        "user_profiles[\"user1\"][\"email\"] = \"alice@example.com\"\n",
        "print(user_profiles[\"user1\"][\"email\"])  # Output: alice@example.com\n"
      ],
      "metadata": {
        "id": "aAfN-x9XODgu"
      }
    },
    {
      "cell_type": "markdown",
      "source": [
        "17. Describe the time complexity of accessing elements in a dictionary\n",
        "   -- The time complexity of accessing elements in a dictionary in Python is generally O(1), also known as constant time."
      ],
      "metadata": {
        "id": "9Gks1pwmOD4J"
      }
    },
    {
      "cell_type": "markdown",
      "source": [
        "18. In what situations are lists preferred over dictionaries\n",
        "   -- Lists are generally the preferred data structure when the order is important, you don't need to pair keys with values, and you're working with a sequence of data that might contain duplicates."
      ],
      "metadata": {
        "id": "NoFmHuYhOEEb"
      }
    },
    {
      "cell_type": "markdown",
      "source": [
        "19. Why are dictionaries considered unordered, and how does that affect data retrieval?\n",
        "   -- Dictionaries in Python are considered unordered because they do not guarantee any specific order for the items (key-value pairs) they store. This means that the order in which key-value pairs are inserted into the dictionary is not necessarily the order in which they are stored internally, nor is it the order in which they will be retrieved when iterating over the dictionary"
      ],
      "metadata": {
        "id": "DYa3ZSgnOEO-"
      }
    },
    {
      "cell_type": "markdown",
      "source": [
        "20. Explain the difference between a list and a dictionary in terms of data retrieval.\n",
        "   --Lists are better when you need an ordered sequence of items and retrieve them by their index.\n",
        "\n",
        "   Dictionaries are better when you need to store key-value pairs and retrieve data by key. They allow for fast lookups, as keys are mapped to values using a hash table."
      ],
      "metadata": {
        "id": "K1216RTwOEYf"
      }
    },
    {
      "cell_type": "code",
      "source": [],
      "metadata": {
        "id": "gzw-7mTkQccU"
      },
      "execution_count": null,
      "outputs": []
    },
    {
      "cell_type": "markdown",
      "source": [
        "Practical Questions"
      ],
      "metadata": {
        "id": "Uss_WAXCz6Ow"
      }
    },
    {
      "cell_type": "code",
      "source": [
        "#1.\n",
        "Name = \"Saransh\"\n",
        "print(Name)"
      ],
      "metadata": {
        "colab": {
          "base_uri": "https://localhost:8080/"
        },
        "id": "NzP5mHoZ0Yec",
        "outputId": "6a1fc139-1db9-4f6c-a70b-5db16b6527f4"
      },
      "execution_count": 2,
      "outputs": [
        {
          "output_type": "stream",
          "name": "stdout",
          "text": [
            "Saransh\n"
          ]
        }
      ]
    },
    {
      "cell_type": "code",
      "source": [
        "#2.\n",
        "Str = \"Hello, World\"\n",
        "len(Str)"
      ],
      "metadata": {
        "colab": {
          "base_uri": "https://localhost:8080/"
        },
        "id": "7MKUtLZs0lU3",
        "outputId": "25c24926-5b18-4301-94e0-7b86f6bd689a"
      },
      "execution_count": 3,
      "outputs": [
        {
          "output_type": "execute_result",
          "data": {
            "text/plain": [
              "12"
            ]
          },
          "metadata": {},
          "execution_count": 3
        }
      ]
    },
    {
      "cell_type": "code",
      "source": [
        "#3.\n",
        "string = \"Python Programming\"\n",
        "string[0:3]"
      ],
      "metadata": {
        "colab": {
          "base_uri": "https://localhost:8080/",
          "height": 36
        },
        "id": "_eHKXK_308o9",
        "outputId": "19ce111c-f0de-4456-8c65-a037d631c19e"
      },
      "execution_count": 5,
      "outputs": [
        {
          "output_type": "execute_result",
          "data": {
            "text/plain": [
              "'Pyt'"
            ],
            "application/vnd.google.colaboratory.intrinsic+json": {
              "type": "string"
            }
          },
          "metadata": {},
          "execution_count": 5
        }
      ]
    },
    {
      "cell_type": "code",
      "source": [
        "#4.\n",
        "string = \"hello\"\n",
        "string.upper()"
      ],
      "metadata": {
        "colab": {
          "base_uri": "https://localhost:8080/",
          "height": 36
        },
        "id": "Vj4p6--G1Ul3",
        "outputId": "254624a7-cbbd-421c-c5c9-88df2eac4631"
      },
      "execution_count": 7,
      "outputs": [
        {
          "output_type": "execute_result",
          "data": {
            "text/plain": [
              "'HELLO'"
            ],
            "application/vnd.google.colaboratory.intrinsic+json": {
              "type": "string"
            }
          },
          "metadata": {},
          "execution_count": 7
        }
      ]
    },
    {
      "cell_type": "code",
      "source": [
        "#5.\n",
        "string = \"I like apple\"\n",
        "string.replace(\"apple\", \"orange\")"
      ],
      "metadata": {
        "colab": {
          "base_uri": "https://localhost:8080/",
          "height": 36
        },
        "id": "usiBVkse1h3Y",
        "outputId": "c1c574ad-daca-4e77-a832-615a5f9c6667"
      },
      "execution_count": 8,
      "outputs": [
        {
          "output_type": "execute_result",
          "data": {
            "text/plain": [
              "'I like orange'"
            ],
            "application/vnd.google.colaboratory.intrinsic+json": {
              "type": "string"
            }
          },
          "metadata": {},
          "execution_count": 8
        }
      ]
    },
    {
      "cell_type": "code",
      "source": [
        "#6.\n",
        "List = [1,2,3,4,5]\n",
        "print(List)"
      ],
      "metadata": {
        "colab": {
          "base_uri": "https://localhost:8080/"
        },
        "id": "A2xQClqj2DWY",
        "outputId": "ab528f98-7533-43d0-ea6a-ef2b14648484"
      },
      "execution_count": 10,
      "outputs": [
        {
          "output_type": "stream",
          "name": "stdout",
          "text": [
            "[1, 2, 3, 4, 5]\n"
          ]
        }
      ]
    },
    {
      "cell_type": "code",
      "source": [
        "#7.\n",
        "List = [1,2,3,4]\n",
        "List.append(10)\n",
        "print(List)"
      ],
      "metadata": {
        "colab": {
          "base_uri": "https://localhost:8080/"
        },
        "id": "Fd6-ApTo2iGc",
        "outputId": "97239a19-a93a-48aa-b0e5-d64661b9273a"
      },
      "execution_count": 12,
      "outputs": [
        {
          "output_type": "stream",
          "name": "stdout",
          "text": [
            "[1, 2, 3, 4, 10]\n"
          ]
        }
      ]
    },
    {
      "cell_type": "code",
      "source": [
        "#8.\n",
        "List = [1,2,3,4,5]\n",
        "List.remove(3)\n",
        "print(List)"
      ],
      "metadata": {
        "colab": {
          "base_uri": "https://localhost:8080/"
        },
        "id": "ycFtnKcm21h8",
        "outputId": "93e8399d-e13a-49ac-a6c4-f333085e6531"
      },
      "execution_count": 13,
      "outputs": [
        {
          "output_type": "stream",
          "name": "stdout",
          "text": [
            "[1, 2, 4, 5]\n"
          ]
        }
      ]
    },
    {
      "cell_type": "code",
      "source": [
        "#9.\n",
        "List = [\"a\",\"b\",\"c\",\"d\"]\n",
        "List[1]\n",
        "\n"
      ],
      "metadata": {
        "colab": {
          "base_uri": "https://localhost:8080/",
          "height": 36
        },
        "id": "7MELuHMP3EwL",
        "outputId": "335a7611-a819-4bc6-9bcc-52c8cb4ddadb"
      },
      "execution_count": 15,
      "outputs": [
        {
          "output_type": "execute_result",
          "data": {
            "text/plain": [
              "'b'"
            ],
            "application/vnd.google.colaboratory.intrinsic+json": {
              "type": "string"
            }
          },
          "metadata": {},
          "execution_count": 15
        }
      ]
    },
    {
      "cell_type": "code",
      "source": [
        "#10.\n",
        "List = [10, 20, 30, 40, 50]\n",
        "List.reverse()\n",
        "print(List)"
      ],
      "metadata": {
        "colab": {
          "base_uri": "https://localhost:8080/"
        },
        "id": "5n71d8Yk3dCU",
        "outputId": "4517b745-9458-4370-9963-01e02d1d66ea"
      },
      "execution_count": 16,
      "outputs": [
        {
          "output_type": "stream",
          "name": "stdout",
          "text": [
            "[50, 40, 30, 20, 10]\n"
          ]
        }
      ]
    },
    {
      "cell_type": "code",
      "source": [
        "#11.\n",
        "Tuple = (100,200,300)\n",
        "print(Tuple)"
      ],
      "metadata": {
        "colab": {
          "base_uri": "https://localhost:8080/"
        },
        "id": "BfCUzXOl3pFj",
        "outputId": "e82f818b-a45c-4fd7-88f5-0d2864268a80"
      },
      "execution_count": 17,
      "outputs": [
        {
          "output_type": "stream",
          "name": "stdout",
          "text": [
            "(100, 200, 300)\n"
          ]
        }
      ]
    },
    {
      "cell_type": "code",
      "source": [
        "#12.\n",
        "Tuple = ('red', 'green', 'blue', 'yellow')\n",
        "Tuple[-2]"
      ],
      "metadata": {
        "colab": {
          "base_uri": "https://localhost:8080/",
          "height": 36
        },
        "id": "4eCuW0bm35Sz",
        "outputId": "ecd14aed-77a8-4c0e-a168-f2296e5c28a2"
      },
      "execution_count": 18,
      "outputs": [
        {
          "output_type": "execute_result",
          "data": {
            "text/plain": [
              "'blue'"
            ],
            "application/vnd.google.colaboratory.intrinsic+json": {
              "type": "string"
            }
          },
          "metadata": {},
          "execution_count": 18
        }
      ]
    },
    {
      "cell_type": "code",
      "source": [
        "#13.\n",
        "Tuple = (10, 20, 5, 15)\n",
        "Tuple_min = min(Tuple)\n",
        "print(Tuple_min)"
      ],
      "metadata": {
        "colab": {
          "base_uri": "https://localhost:8080/"
        },
        "id": "KYC6M6ga4NqF",
        "outputId": "7d862db5-5b10-4493-c3f2-05e6aef71fce"
      },
      "execution_count": 20,
      "outputs": [
        {
          "output_type": "stream",
          "name": "stdout",
          "text": [
            "5\n"
          ]
        }
      ]
    },
    {
      "cell_type": "code",
      "source": [
        "#14.\n",
        "Tuple = ('dog', 'cat', 'rabbit')\n",
        "Tuple.index(\"cat\")"
      ],
      "metadata": {
        "colab": {
          "base_uri": "https://localhost:8080/"
        },
        "id": "NhziKkIG5BM4",
        "outputId": "fd5d5a3e-a6fa-4a57-fcba-da523d19620d"
      },
      "execution_count": 21,
      "outputs": [
        {
          "output_type": "execute_result",
          "data": {
            "text/plain": [
              "1"
            ]
          },
          "metadata": {},
          "execution_count": 21
        }
      ]
    },
    {
      "cell_type": "code",
      "source": [
        "#15.\n",
        "Tuple = (\"orage\", \"Kiwi\", \"banana\")\n",
        "if \"Kiwi\" in Tuple:\n",
        "    print(\"Kiwi is present\")\n",
        "else:\n",
        "    print(\"Kiwi is not present\")"
      ],
      "metadata": {
        "colab": {
          "base_uri": "https://localhost:8080/"
        },
        "id": "Dmspzyke5W0l",
        "outputId": "37164c51-ceb5-436d-855a-7ebe69b755dc"
      },
      "execution_count": 22,
      "outputs": [
        {
          "output_type": "stream",
          "name": "stdout",
          "text": [
            "Kiwi is present\n"
          ]
        }
      ]
    },
    {
      "cell_type": "code",
      "source": [
        "#16.\n",
        "set = {\"a\", \"b\", \"c\"}\n",
        "print(set)"
      ],
      "metadata": {
        "colab": {
          "base_uri": "https://localhost:8080/"
        },
        "id": "Yz04UiD2515u",
        "outputId": "46469942-dc23-4005-cb3f-0d10ae56f2bc"
      },
      "execution_count": 23,
      "outputs": [
        {
          "output_type": "stream",
          "name": "stdout",
          "text": [
            "{'c', 'a', 'b'}\n"
          ]
        }
      ]
    },
    {
      "cell_type": "code",
      "source": [
        "#17.\n",
        "set = {1, 2, 3, 4, 5}\n",
        "set.clear()\n",
        "print(set)"
      ],
      "metadata": {
        "colab": {
          "base_uri": "https://localhost:8080/"
        },
        "id": "cZO2hKJG6GKt",
        "outputId": "cb9e0a01-2a17-4b43-93ce-883df812c9e9"
      },
      "execution_count": 25,
      "outputs": [
        {
          "output_type": "stream",
          "name": "stdout",
          "text": [
            "set()\n"
          ]
        }
      ]
    },
    {
      "cell_type": "code",
      "source": [
        "#18.\n",
        "set = {1, 2, 3, 4}\n",
        "set.remove(4)\n",
        "print(set)"
      ],
      "metadata": {
        "colab": {
          "base_uri": "https://localhost:8080/"
        },
        "id": "N_fbqLa86S2Y",
        "outputId": "647f6bf9-9d1c-44d5-9ca9-40ec004a54e8"
      },
      "execution_count": 27,
      "outputs": [
        {
          "output_type": "stream",
          "name": "stdout",
          "text": [
            "{1, 2, 3}\n"
          ]
        }
      ]
    },
    {
      "cell_type": "code",
      "source": [
        "#19.\n",
        "set1 = {1,2,3}\n",
        "set2 = {3,4,5}\n",
        "set3 = set1.union(set2)\n",
        "print(set3)"
      ],
      "metadata": {
        "colab": {
          "base_uri": "https://localhost:8080/"
        },
        "id": "3pXFjnoH6glE",
        "outputId": "93e8400b-132d-4378-8958-6e0875ae5d2b"
      },
      "execution_count": 28,
      "outputs": [
        {
          "output_type": "stream",
          "name": "stdout",
          "text": [
            "{1, 2, 3, 4, 5}\n"
          ]
        }
      ]
    },
    {
      "cell_type": "code",
      "source": [
        "#20.\n",
        "set1 = {1,2,3}\n",
        "set2 = {2,3,4}\n",
        "set3 = set1.intersection(set2)\n",
        "print(set3)"
      ],
      "metadata": {
        "colab": {
          "base_uri": "https://localhost:8080/"
        },
        "id": "WUh0NiWu60XE",
        "outputId": "ef5389dd-a6ae-413d-fa17-3b2080d6328c"
      },
      "execution_count": 29,
      "outputs": [
        {
          "output_type": "stream",
          "name": "stdout",
          "text": [
            "{2, 3}\n"
          ]
        }
      ]
    },
    {
      "cell_type": "code",
      "source": [
        "#21.\n",
        "Dict = {\"Name\": \"Saransh\", \"Age\": 25, \"City\":\"Bhopal\"}\n",
        "print(Dict)"
      ],
      "metadata": {
        "colab": {
          "base_uri": "https://localhost:8080/"
        },
        "id": "YfLcs6CM7BuZ",
        "outputId": "7b9f0ded-a5cb-4c70-96ce-a602afa779ba"
      },
      "execution_count": 30,
      "outputs": [
        {
          "output_type": "stream",
          "name": "stdout",
          "text": [
            "{'Name': 'Saransh', 'Age': 25, 'City': 'Bhopal'}\n"
          ]
        }
      ]
    },
    {
      "cell_type": "code",
      "source": [
        "#22.\n",
        "Dict = {'name': 'John', 'age': 25}\n",
        "Dict[\"Country\"] = \"USA\"\n",
        "print(Dict)"
      ],
      "metadata": {
        "colab": {
          "base_uri": "https://localhost:8080/"
        },
        "id": "ej7JP9ng7meP",
        "outputId": "d91289da-2382-4bea-a1aa-8aa76506c17b"
      },
      "execution_count": 34,
      "outputs": [
        {
          "output_type": "stream",
          "name": "stdout",
          "text": [
            "{'name': 'John', 'age': 25, 'Country': 'USA'}\n"
          ]
        }
      ]
    },
    {
      "cell_type": "code",
      "source": [
        "#23.\n",
        "Dict = {'name': 'Alice', 'age': 30}\n",
        "Dict[\"name\"]"
      ],
      "metadata": {
        "colab": {
          "base_uri": "https://localhost:8080/",
          "height": 36
        },
        "id": "UmnzYooD8ijQ",
        "outputId": "d91835d5-4dab-440d-d791-5c375cb637e4"
      },
      "execution_count": 35,
      "outputs": [
        {
          "output_type": "execute_result",
          "data": {
            "text/plain": [
              "'Alice'"
            ],
            "application/vnd.google.colaboratory.intrinsic+json": {
              "type": "string"
            }
          },
          "metadata": {},
          "execution_count": 35
        }
      ]
    },
    {
      "cell_type": "code",
      "source": [
        "#24.\n",
        "Dict = {'name': 'Bob', 'age': 22, 'city': 'New York'}\n",
        "Dict.pop(\"age\")\n",
        "print(Dict)"
      ],
      "metadata": {
        "colab": {
          "base_uri": "https://localhost:8080/"
        },
        "id": "ehU4aj_A8w4D",
        "outputId": "80086684-db2f-4b8b-d425-bfb9c25a236a"
      },
      "execution_count": 38,
      "outputs": [
        {
          "output_type": "stream",
          "name": "stdout",
          "text": [
            "{'name': 'Bob', 'city': 'New York'}\n"
          ]
        }
      ]
    },
    {
      "cell_type": "code",
      "source": [
        "#25.\n",
        "Dict = {'name': 'Alice', 'city': 'Paris'}\n",
        "if \"city\" in Dict:\n",
        "    print(\"City is present\")\n",
        "else:\n",
        "    print(\"City is not present\")"
      ],
      "metadata": {
        "colab": {
          "base_uri": "https://localhost:8080/"
        },
        "id": "xI7nqJ5H9MXv",
        "outputId": "34c66b0e-a330-4fb3-82a9-3b5e9e5ad69e"
      },
      "execution_count": 39,
      "outputs": [
        {
          "output_type": "stream",
          "name": "stdout",
          "text": [
            "City is present\n"
          ]
        }
      ]
    },
    {
      "cell_type": "code",
      "source": [
        "#26.\n",
        "List = [1,2,3,4,5]\n",
        "Tuple = (\"a\",\"b\",\"c\",\"d\",\"e\")\n",
        "Dict = {1:\"a\", 2:\"b\", 3:\"c\", 4:\"d\", 5:\"e\"}\n",
        "print(List, Tuple, Dict)\n"
      ],
      "metadata": {
        "colab": {
          "base_uri": "https://localhost:8080/"
        },
        "id": "o44P_VFF9qog",
        "outputId": "fbed4cf5-49d6-42dd-8ba4-d965e748cba5"
      },
      "execution_count": 41,
      "outputs": [
        {
          "output_type": "stream",
          "name": "stdout",
          "text": [
            "[1, 2, 3, 4, 5] ('a', 'b', 'c', 'd', 'e') {1: 'a', 2: 'b', 3: 'c', 4: 'd', 5: 'e'}\n"
          ]
        }
      ]
    },
    {
      "cell_type": "code",
      "source": [
        "#27.\n",
        "List = [78,34,75,12,88]\n",
        "List.sort()\n",
        "print(List)"
      ],
      "metadata": {
        "colab": {
          "base_uri": "https://localhost:8080/"
        },
        "id": "KJypVf64-We6",
        "outputId": "f0058236-9f5a-4b5f-e2b1-cd51eaf7e5cb"
      },
      "execution_count": 43,
      "outputs": [
        {
          "output_type": "stream",
          "name": "stdout",
          "text": [
            "[12, 34, 75, 78, 88]\n"
          ]
        }
      ]
    },
    {
      "cell_type": "code",
      "source": [
        "#28.\n",
        "List = [\"saransh\", \"Sakshi\", \"Srishti\", \"Anjana\"]\n",
        "List[3]"
      ],
      "metadata": {
        "colab": {
          "base_uri": "https://localhost:8080/",
          "height": 36
        },
        "id": "TPcKl4Uh-piQ",
        "outputId": "3a61f0b8-678b-4744-a375-c7d8e85d4e0f"
      },
      "execution_count": 44,
      "outputs": [
        {
          "output_type": "execute_result",
          "data": {
            "text/plain": [
              "'Anjana'"
            ],
            "application/vnd.google.colaboratory.intrinsic+json": {
              "type": "string"
            }
          },
          "metadata": {},
          "execution_count": 44
        }
      ]
    },
    {
      "cell_type": "code",
      "source": [
        "#29.\n",
        "Dict1 = {1:\"a\", 2:\"b\", 3:\"c\"}\n",
        "Dict2 = {4:\"d\", 5:\"e\", 6:\"f\"}\n",
        "Dict1.update(Dict2)\n",
        "print(Dict1)\n",
        "\n"
      ],
      "metadata": {
        "colab": {
          "base_uri": "https://localhost:8080/"
        },
        "id": "cQvv36GX_DqG",
        "outputId": "6e71cd88-e428-4693-fefa-23b34562b886"
      },
      "execution_count": 49,
      "outputs": [
        {
          "output_type": "stream",
          "name": "stdout",
          "text": [
            "{1: 'a', 2: 'b', 3: 'c', 4: 'd', 5: 'e', 6: 'f'}\n"
          ]
        }
      ]
    },
    {
      "cell_type": "code",
      "source": [
        "#30.\n",
        "my_list = [\"Sraansh\", \"Sakshi\", \"Srishti\", \"Anjana\", \"Anjana\"]\n",
        "my_set = set(my_list)\n",
        "print(my_set)\n"
      ],
      "metadata": {
        "colab": {
          "base_uri": "https://localhost:8080/",
          "height": 193
        },
        "id": "Qu9K45oC_6Go",
        "outputId": "40cede05-d34a-444c-ac06-09a132ae4e7a"
      },
      "execution_count": 59,
      "outputs": [
        {
          "output_type": "error",
          "ename": "TypeError",
          "evalue": "'set' object is not callable",
          "traceback": [
            "\u001b[0;31m---------------------------------------------------------------------------\u001b[0m",
            "\u001b[0;31mTypeError\u001b[0m                                 Traceback (most recent call last)",
            "\u001b[0;32m<ipython-input-59-801d741df14c>\u001b[0m in \u001b[0;36m<cell line: 0>\u001b[0;34m()\u001b[0m\n\u001b[1;32m      1\u001b[0m \u001b[0;31m#30.\u001b[0m\u001b[0;34m\u001b[0m\u001b[0;34m\u001b[0m\u001b[0m\n\u001b[1;32m      2\u001b[0m \u001b[0mmy_list\u001b[0m \u001b[0;34m=\u001b[0m \u001b[0;34m[\u001b[0m\u001b[0;34m\"Sraansh\"\u001b[0m\u001b[0;34m,\u001b[0m \u001b[0;34m\"Sakshi\"\u001b[0m\u001b[0;34m,\u001b[0m \u001b[0;34m\"Srishti\"\u001b[0m\u001b[0;34m,\u001b[0m \u001b[0;34m\"Anjana\"\u001b[0m\u001b[0;34m,\u001b[0m \u001b[0;34m\"Anjana\"\u001b[0m\u001b[0;34m]\u001b[0m\u001b[0;34m\u001b[0m\u001b[0;34m\u001b[0m\u001b[0m\n\u001b[0;32m----> 3\u001b[0;31m \u001b[0mmy_set\u001b[0m \u001b[0;34m=\u001b[0m \u001b[0mset\u001b[0m\u001b[0;34m(\u001b[0m\u001b[0mmy_list\u001b[0m\u001b[0;34m)\u001b[0m\u001b[0;34m\u001b[0m\u001b[0;34m\u001b[0m\u001b[0m\n\u001b[0m\u001b[1;32m      4\u001b[0m \u001b[0mprint\u001b[0m\u001b[0;34m(\u001b[0m\u001b[0mmy_set\u001b[0m\u001b[0;34m)\u001b[0m\u001b[0;34m\u001b[0m\u001b[0;34m\u001b[0m\u001b[0m\n",
            "\u001b[0;31mTypeError\u001b[0m: 'set' object is not callable"
          ]
        }
      ]
    }
  ]
}